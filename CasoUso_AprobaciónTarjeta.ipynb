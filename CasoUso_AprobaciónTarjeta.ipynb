{
  "cells": [
    {
      "cell_type": "markdown",
      "metadata": {
        "id": "_m-MHzeXBZ42"
      },
      "source": [
        "## ¿Me concederán la tarjeta?"
      ]
    },
    {
      "cell_type": "markdown",
      "metadata": {
        "id": "W3ijsOxVBwST"
      },
      "source": [
        "Los bancos comerciales reciben muchas solicitudes de tarjetas de crédito. Muchos de ellos son rechazados por muchas razones, como saldos elevados de préstamos, bajos niveles de ingresos  por ejemplo. El análisis manual de estas aplicacionespropenso a errores y requiere mucho tiempo . Afortunadamente, esta tarea se puede automatizar con el poder del aprendizaje automático y prácticamente todos los bancos comerciales lo hacen hoy en día. En este proyecto, construiremos un predictor automático de aprobación de tarjetas de crédito utilizando técnicas de aprendizaje automático que hemos trabajado anteriormente (Regresión logísitica y KNN), tal como lo hacen los bancos reales."
      ]
    },
    {
      "cell_type": "markdown",
      "metadata": {
        "id": "MWbhkZ-KCuoB"
      },
      "source": [
        "## INSPECCIÓN DEL DATASET\n",
        "\n",
        "Carga el Dataset del moodle e inspecciona los valores ( es normal que te resulte confuso)"
      ]
    },
    {
      "cell_type": "code",
      "execution_count": 53,
      "metadata": {
        "id": "YmwAOQMbC-Z1"
      },
      "outputs": [],
      "source": [
        "# Tu codigo\n",
        "import pandas as pd\n",
        "import numpy as np\n",
        "import matplotlib.pyplot as plt\n",
        "import seaborn as sns\n",
        "\n",
        "# Libreria para el manejo de datos"
      ]
    },
    {
      "cell_type": "markdown",
      "metadata": {
        "id": "0UTs_5t2C_82"
      },
      "source": [
        "Al ser datos privados los han capados, pero 'feta la llei, feta la trampa', tenemos este [blog](http://rstudio-pubs-static.s3.amazonaws.com/73039_9946de135c0a49daa7a0a9eda4a67a72.html) que nos da una idea de a que campos se pueden referir: Gender, Age, Debt, Married, BankCustomer, EducationLevel, Ethnicity, YearsEmployed, PriorDefault, Employed, CreditScore, DriversLicense, Citizen, ZipCode, Income y finalmente el ApprovalStatus.\n",
        "\n",
        "Se mezclan tanto campos numéricos como textos, así que seguramente vamos a tener que hacer algunas transformaciones:"
      ]
    },
    {
      "cell_type": "code",
      "execution_count": 54,
      "metadata": {
        "id": "2SdQREClEBQa"
      },
      "outputs": [
        {
          "data": {
            "text/html": [
              "<div>\n",
              "<style scoped>\n",
              "    .dataframe tbody tr th:only-of-type {\n",
              "        vertical-align: middle;\n",
              "    }\n",
              "\n",
              "    .dataframe tbody tr th {\n",
              "        vertical-align: top;\n",
              "    }\n",
              "\n",
              "    .dataframe thead th {\n",
              "        text-align: right;\n",
              "    }\n",
              "</style>\n",
              "<table border=\"1\" class=\"dataframe\">\n",
              "  <thead>\n",
              "    <tr style=\"text-align: right;\">\n",
              "      <th></th>\n",
              "      <th>Column1</th>\n",
              "      <th>Column2</th>\n",
              "      <th>Column3</th>\n",
              "      <th>Column4</th>\n",
              "      <th>Column5</th>\n",
              "      <th>Column6</th>\n",
              "      <th>Column7</th>\n",
              "      <th>Column8</th>\n",
              "      <th>Column9</th>\n",
              "      <th>Column10</th>\n",
              "      <th>Column11</th>\n",
              "      <th>Column12</th>\n",
              "      <th>Column13</th>\n",
              "      <th>Column14</th>\n",
              "      <th>Column15</th>\n",
              "      <th>Column16</th>\n",
              "    </tr>\n",
              "  </thead>\n",
              "  <tbody>\n",
              "    <tr>\n",
              "      <th>0</th>\n",
              "      <td>b</td>\n",
              "      <td>30.83</td>\n",
              "      <td>0</td>\n",
              "      <td>u</td>\n",
              "      <td>g</td>\n",
              "      <td>w</td>\n",
              "      <td>v</td>\n",
              "      <td>125</td>\n",
              "      <td>t</td>\n",
              "      <td>t</td>\n",
              "      <td>1</td>\n",
              "      <td>f</td>\n",
              "      <td>g</td>\n",
              "      <td>00202</td>\n",
              "      <td>0</td>\n",
              "      <td>+</td>\n",
              "    </tr>\n",
              "    <tr>\n",
              "      <th>1</th>\n",
              "      <td>a</td>\n",
              "      <td>58.67</td>\n",
              "      <td>446</td>\n",
              "      <td>u</td>\n",
              "      <td>g</td>\n",
              "      <td>q</td>\n",
              "      <td>h</td>\n",
              "      <td>304</td>\n",
              "      <td>t</td>\n",
              "      <td>t</td>\n",
              "      <td>6</td>\n",
              "      <td>f</td>\n",
              "      <td>g</td>\n",
              "      <td>00043</td>\n",
              "      <td>560</td>\n",
              "      <td>+</td>\n",
              "    </tr>\n",
              "    <tr>\n",
              "      <th>2</th>\n",
              "      <td>a</td>\n",
              "      <td>24.50</td>\n",
              "      <td>5</td>\n",
              "      <td>u</td>\n",
              "      <td>g</td>\n",
              "      <td>q</td>\n",
              "      <td>h</td>\n",
              "      <td>15</td>\n",
              "      <td>t</td>\n",
              "      <td>f</td>\n",
              "      <td>0</td>\n",
              "      <td>f</td>\n",
              "      <td>g</td>\n",
              "      <td>00280</td>\n",
              "      <td>824</td>\n",
              "      <td>+</td>\n",
              "    </tr>\n",
              "    <tr>\n",
              "      <th>3</th>\n",
              "      <td>b</td>\n",
              "      <td>27.83</td>\n",
              "      <td>154</td>\n",
              "      <td>u</td>\n",
              "      <td>g</td>\n",
              "      <td>w</td>\n",
              "      <td>v</td>\n",
              "      <td>375</td>\n",
              "      <td>t</td>\n",
              "      <td>t</td>\n",
              "      <td>5</td>\n",
              "      <td>t</td>\n",
              "      <td>g</td>\n",
              "      <td>00100</td>\n",
              "      <td>3</td>\n",
              "      <td>+</td>\n",
              "    </tr>\n",
              "    <tr>\n",
              "      <th>4</th>\n",
              "      <td>b</td>\n",
              "      <td>20.17</td>\n",
              "      <td>5625</td>\n",
              "      <td>u</td>\n",
              "      <td>g</td>\n",
              "      <td>w</td>\n",
              "      <td>v</td>\n",
              "      <td>171</td>\n",
              "      <td>t</td>\n",
              "      <td>f</td>\n",
              "      <td>0</td>\n",
              "      <td>f</td>\n",
              "      <td>s</td>\n",
              "      <td>00120</td>\n",
              "      <td>0</td>\n",
              "      <td>+</td>\n",
              "    </tr>\n",
              "    <tr>\n",
              "      <th>...</th>\n",
              "      <td>...</td>\n",
              "      <td>...</td>\n",
              "      <td>...</td>\n",
              "      <td>...</td>\n",
              "      <td>...</td>\n",
              "      <td>...</td>\n",
              "      <td>...</td>\n",
              "      <td>...</td>\n",
              "      <td>...</td>\n",
              "      <td>...</td>\n",
              "      <td>...</td>\n",
              "      <td>...</td>\n",
              "      <td>...</td>\n",
              "      <td>...</td>\n",
              "      <td>...</td>\n",
              "      <td>...</td>\n",
              "    </tr>\n",
              "    <tr>\n",
              "      <th>685</th>\n",
              "      <td>b</td>\n",
              "      <td>21.08</td>\n",
              "      <td>10085</td>\n",
              "      <td>y</td>\n",
              "      <td>p</td>\n",
              "      <td>e</td>\n",
              "      <td>h</td>\n",
              "      <td>125</td>\n",
              "      <td>f</td>\n",
              "      <td>f</td>\n",
              "      <td>0</td>\n",
              "      <td>f</td>\n",
              "      <td>g</td>\n",
              "      <td>00260</td>\n",
              "      <td>0</td>\n",
              "      <td>-</td>\n",
              "    </tr>\n",
              "    <tr>\n",
              "      <th>686</th>\n",
              "      <td>a</td>\n",
              "      <td>22.67</td>\n",
              "      <td>75</td>\n",
              "      <td>u</td>\n",
              "      <td>g</td>\n",
              "      <td>c</td>\n",
              "      <td>v</td>\n",
              "      <td>2</td>\n",
              "      <td>f</td>\n",
              "      <td>t</td>\n",
              "      <td>2</td>\n",
              "      <td>t</td>\n",
              "      <td>g</td>\n",
              "      <td>00200</td>\n",
              "      <td>394</td>\n",
              "      <td>-</td>\n",
              "    </tr>\n",
              "    <tr>\n",
              "      <th>687</th>\n",
              "      <td>a</td>\n",
              "      <td>25.25</td>\n",
              "      <td>135</td>\n",
              "      <td>y</td>\n",
              "      <td>p</td>\n",
              "      <td>ff</td>\n",
              "      <td>ff</td>\n",
              "      <td>2</td>\n",
              "      <td>f</td>\n",
              "      <td>t</td>\n",
              "      <td>1</td>\n",
              "      <td>t</td>\n",
              "      <td>g</td>\n",
              "      <td>00200</td>\n",
              "      <td>1</td>\n",
              "      <td>-</td>\n",
              "    </tr>\n",
              "    <tr>\n",
              "      <th>688</th>\n",
              "      <td>b</td>\n",
              "      <td>17.92</td>\n",
              "      <td>205</td>\n",
              "      <td>u</td>\n",
              "      <td>g</td>\n",
              "      <td>aa</td>\n",
              "      <td>v</td>\n",
              "      <td>4</td>\n",
              "      <td>f</td>\n",
              "      <td>f</td>\n",
              "      <td>0</td>\n",
              "      <td>f</td>\n",
              "      <td>g</td>\n",
              "      <td>00280</td>\n",
              "      <td>750</td>\n",
              "      <td>-</td>\n",
              "    </tr>\n",
              "    <tr>\n",
              "      <th>689</th>\n",
              "      <td>b</td>\n",
              "      <td>35.00</td>\n",
              "      <td>3375</td>\n",
              "      <td>u</td>\n",
              "      <td>g</td>\n",
              "      <td>c</td>\n",
              "      <td>h</td>\n",
              "      <td>829</td>\n",
              "      <td>f</td>\n",
              "      <td>f</td>\n",
              "      <td>0</td>\n",
              "      <td>t</td>\n",
              "      <td>g</td>\n",
              "      <td>00000</td>\n",
              "      <td>0</td>\n",
              "      <td>-</td>\n",
              "    </tr>\n",
              "  </tbody>\n",
              "</table>\n",
              "<p>690 rows × 16 columns</p>\n",
              "</div>"
            ],
            "text/plain": [
              "    Column1 Column2  Column3 Column4 Column5 Column6 Column7  Column8 Column9  \\\n",
              "0         b   30.83        0       u       g       w       v      125       t   \n",
              "1         a   58.67      446       u       g       q       h      304       t   \n",
              "2         a   24.50        5       u       g       q       h       15       t   \n",
              "3         b   27.83      154       u       g       w       v      375       t   \n",
              "4         b   20.17     5625       u       g       w       v      171       t   \n",
              "..      ...     ...      ...     ...     ...     ...     ...      ...     ...   \n",
              "685       b   21.08    10085       y       p       e       h      125       f   \n",
              "686       a   22.67       75       u       g       c       v        2       f   \n",
              "687       a   25.25      135       y       p      ff      ff        2       f   \n",
              "688       b   17.92      205       u       g      aa       v        4       f   \n",
              "689       b   35.00     3375       u       g       c       h      829       f   \n",
              "\n",
              "    Column10  Column11 Column12 Column13 Column14  Column15 Column16  \n",
              "0          t         1        f        g    00202         0        +  \n",
              "1          t         6        f        g    00043       560        +  \n",
              "2          f         0        f        g    00280       824        +  \n",
              "3          t         5        t        g    00100         3        +  \n",
              "4          f         0        f        s    00120         0        +  \n",
              "..       ...       ...      ...      ...      ...       ...      ...  \n",
              "685        f         0        f        g    00260         0        -  \n",
              "686        t         2        t        g    00200       394        -  \n",
              "687        t         1        t        g    00200         1        -  \n",
              "688        f         0        f        g    00280       750        -  \n",
              "689        f         0        t        g    00000         0        -  \n",
              "\n",
              "[690 rows x 16 columns]"
            ]
          },
          "execution_count": 54,
          "metadata": {},
          "output_type": "execute_result"
        }
      ],
      "source": [
        "    # Analiza la info del dataset (tamaño y tipos de columnas)\n",
        "\n",
        "    df = pd.read_csv('data/dataCredit.csv', sep=';')\n",
        "    df"
      ]
    },
    {
      "cell_type": "code",
      "execution_count": 55,
      "metadata": {},
      "outputs": [
        {
          "name": "stdout",
          "output_type": "stream",
          "text": [
            "<class 'pandas.core.frame.DataFrame'>\n",
            "RangeIndex: 690 entries, 0 to 689\n",
            "Data columns (total 16 columns):\n",
            " #   Column    Non-Null Count  Dtype \n",
            "---  ------    --------------  ----- \n",
            " 0   Column1   690 non-null    object\n",
            " 1   Column2   690 non-null    object\n",
            " 2   Column3   690 non-null    int64 \n",
            " 3   Column4   690 non-null    object\n",
            " 4   Column5   690 non-null    object\n",
            " 5   Column6   690 non-null    object\n",
            " 6   Column7   690 non-null    object\n",
            " 7   Column8   690 non-null    int64 \n",
            " 8   Column9   690 non-null    object\n",
            " 9   Column10  690 non-null    object\n",
            " 10  Column11  690 non-null    int64 \n",
            " 11  Column12  690 non-null    object\n",
            " 12  Column13  690 non-null    object\n",
            " 13  Column14  690 non-null    object\n",
            " 14  Column15  690 non-null    int64 \n",
            " 15  Column16  690 non-null    object\n",
            "dtypes: int64(4), object(12)\n",
            "memory usage: 86.4+ KB\n"
          ]
        }
      ],
      "source": [
        "df.info()"
      ]
    },
    {
      "cell_type": "code",
      "execution_count": 56,
      "metadata": {
        "id": "wp8gA5bxFxPM"
      },
      "outputs": [
        {
          "data": {
            "text/html": [
              "<div>\n",
              "<style scoped>\n",
              "    .dataframe tbody tr th:only-of-type {\n",
              "        vertical-align: middle;\n",
              "    }\n",
              "\n",
              "    .dataframe tbody tr th {\n",
              "        vertical-align: top;\n",
              "    }\n",
              "\n",
              "    .dataframe thead th {\n",
              "        text-align: right;\n",
              "    }\n",
              "</style>\n",
              "<table border=\"1\" class=\"dataframe\">\n",
              "  <thead>\n",
              "    <tr style=\"text-align: right;\">\n",
              "      <th></th>\n",
              "      <th>Column3</th>\n",
              "      <th>Column8</th>\n",
              "      <th>Column11</th>\n",
              "      <th>Column15</th>\n",
              "    </tr>\n",
              "  </thead>\n",
              "  <tbody>\n",
              "    <tr>\n",
              "      <th>count</th>\n",
              "      <td>690.000000</td>\n",
              "      <td>690.000000</td>\n",
              "      <td>690.00000</td>\n",
              "      <td>690.000000</td>\n",
              "    </tr>\n",
              "    <tr>\n",
              "      <th>mean</th>\n",
              "      <td>1187.315942</td>\n",
              "      <td>453.366667</td>\n",
              "      <td>2.40000</td>\n",
              "      <td>1017.385507</td>\n",
              "    </tr>\n",
              "    <tr>\n",
              "      <th>std</th>\n",
              "      <td>3069.110042</td>\n",
              "      <td>1387.900324</td>\n",
              "      <td>4.86294</td>\n",
              "      <td>5210.102598</td>\n",
              "    </tr>\n",
              "    <tr>\n",
              "      <th>min</th>\n",
              "      <td>0.000000</td>\n",
              "      <td>0.000000</td>\n",
              "      <td>0.00000</td>\n",
              "      <td>0.000000</td>\n",
              "    </tr>\n",
              "    <tr>\n",
              "      <th>25%</th>\n",
              "      <td>15.000000</td>\n",
              "      <td>5.000000</td>\n",
              "      <td>0.00000</td>\n",
              "      <td>0.000000</td>\n",
              "    </tr>\n",
              "    <tr>\n",
              "      <th>50%</th>\n",
              "      <td>125.000000</td>\n",
              "      <td>35.000000</td>\n",
              "      <td>0.00000</td>\n",
              "      <td>5.000000</td>\n",
              "    </tr>\n",
              "    <tr>\n",
              "      <th>75%</th>\n",
              "      <td>665.000000</td>\n",
              "      <td>219.750000</td>\n",
              "      <td>3.00000</td>\n",
              "      <td>395.500000</td>\n",
              "    </tr>\n",
              "    <tr>\n",
              "      <th>max</th>\n",
              "      <td>26335.000000</td>\n",
              "      <td>14415.000000</td>\n",
              "      <td>67.00000</td>\n",
              "      <td>100000.000000</td>\n",
              "    </tr>\n",
              "  </tbody>\n",
              "</table>\n",
              "</div>"
            ],
            "text/plain": [
              "            Column3       Column8   Column11       Column15\n",
              "count    690.000000    690.000000  690.00000     690.000000\n",
              "mean    1187.315942    453.366667    2.40000    1017.385507\n",
              "std     3069.110042   1387.900324    4.86294    5210.102598\n",
              "min        0.000000      0.000000    0.00000       0.000000\n",
              "25%       15.000000      5.000000    0.00000       0.000000\n",
              "50%      125.000000     35.000000    0.00000       5.000000\n",
              "75%      665.000000    219.750000    3.00000     395.500000\n",
              "max    26335.000000  14415.000000   67.00000  100000.000000"
            ]
          },
          "execution_count": 56,
          "metadata": {},
          "output_type": "execute_result"
        }
      ],
      "source": [
        "# Analiza la descripción estadísitca de los campos numéricos del dataset (saca alguna conclusió TIP: fijate en la escalas)\n",
        "df.describe()"
      ]
    },
    {
      "cell_type": "markdown",
      "metadata": {
        "id": "C_RC9Y57GbLU"
      },
      "source": [
        "## Tratamiento de valores Nulos"
      ]
    },
    {
      "cell_type": "markdown",
      "metadata": {
        "id": "AnWHBqsTF1HZ"
      },
      "source": [
        "Normalmente cuando faltan campos en un dataset se suele dejar vacío, lo que equivale a introducir el valor NaN, en algunos casos como en este ejemplo, podemos observar como en alguna variable categorica envez de de dejarlo vacío han puesto ?."
      ]
    },
    {
      "cell_type": "code",
      "execution_count": 57,
      "metadata": {
        "id": "nbnMs8A-GJCh"
      },
      "outputs": [],
      "source": [
        "# Observa si hay columnas que contengan valor ?\n",
        "df = df.replace('?', np.nan)"
      ]
    },
    {
      "cell_type": "code",
      "execution_count": 58,
      "metadata": {
        "id": "6r25P7TYGsb8"
      },
      "outputs": [],
      "source": [
        "# Reemplaza el valor ? por un (NaN)\n",
        "df = df.replace('?', np.nan)"
      ]
    },
    {
      "cell_type": "code",
      "execution_count": 59,
      "metadata": {
        "id": "jN4GiX4AIXNp"
      },
      "outputs": [
        {
          "data": {
            "text/plain": [
              "67"
            ]
          },
          "execution_count": 59,
          "metadata": {},
          "output_type": "execute_result"
        }
      ],
      "source": [
        "#Muestra la cantidad de NaN\n",
        "df.isnull().sum().sum()"
      ]
    },
    {
      "cell_type": "markdown",
      "metadata": {
        "id": "PDqQReFaIzum"
      },
      "source": [
        "Para tratar los NaN values hay una serie de técnicas, desde descartarlos, o en nuestro caso los vamos a rellenar con el valor medio:"
      ]
    },
    {
      "cell_type": "code",
      "execution_count": 60,
      "metadata": {
        "id": "yF-xM3RDJFzi"
      },
      "outputs": [
        {
          "name": "stdout",
          "output_type": "stream",
          "text": [
            "67\n"
          ]
        },
        {
          "name": "stderr",
          "output_type": "stream",
          "text": [
            "C:\\Users\\1vict\\AppData\\Local\\Temp\\ipykernel_7072\\3599206723.py:2: FutureWarning: The default value of numeric_only in DataFrame.mean is deprecated. In a future version, it will default to False. In addition, specifying 'numeric_only=None' is deprecated. Select only valid columns or specify the value of numeric_only to silence this warning.\n",
            "  df = df.fillna(df.mean())\n"
          ]
        }
      ],
      "source": [
        "# Rellena los NaN Values con el valor medio y muestra el número de NaN\n",
        "df = df.fillna(df.mean())\n",
        "print(df.isnull().sum().sum())"
      ]
    },
    {
      "cell_type": "code",
      "execution_count": 61,
      "metadata": {},
      "outputs": [
        {
          "data": {
            "text/plain": [
              "Column1     12\n",
              "Column2     12\n",
              "Column3      0\n",
              "Column4      6\n",
              "Column5      6\n",
              "Column6      9\n",
              "Column7      9\n",
              "Column8      0\n",
              "Column9      0\n",
              "Column10     0\n",
              "Column11     0\n",
              "Column12     0\n",
              "Column13     0\n",
              "Column14    13\n",
              "Column15     0\n",
              "Column16     0\n",
              "dtype: int64"
            ]
          },
          "execution_count": 61,
          "metadata": {},
          "output_type": "execute_result"
        }
      ],
      "source": [
        "df.isna().sum()"
      ]
    },
    {
      "cell_type": "markdown",
      "metadata": {
        "id": "4xsE11bZJL6e"
      },
      "source": [
        "Como puede ver siguen habiendo NaN, tiene sentido debido a que en las variables categóricas no se ha podido imputar ninguna valor medio. Trata los campos categóricos para substuir los valores NaN por el valor que se da más veces. (Te va a costar haciendo un for (aunque tiene nivel para hacerlo), puedes optar por hacerlo uno a uno)"
      ]
    },
    {
      "cell_type": "code",
      "execution_count": 62,
      "metadata": {
        "id": "byrMKWrJKUO1"
      },
      "outputs": [
        {
          "data": {
            "text/plain": [
              "0"
            ]
          },
          "execution_count": 62,
          "metadata": {},
          "output_type": "execute_result"
        }
      ],
      "source": [
        "# Sacar el valor que mas se repite en las columnas y reemplazar los NaN por ese valor\n",
        "df = df.fillna(df.mode().iloc[0])\n",
        "#Muestra ahora el número de NaN\n",
        "df.isnull().sum().sum()"
      ]
    },
    {
      "cell_type": "markdown",
      "metadata": {
        "id": "d-I-71gOKaQf"
      },
      "source": [
        "## Preprocesado de datos\n",
        "\n",
        "Lo primero que debemos hacer es separar en nuestra variable explicativa y nuestra variable target"
      ]
    },
    {
      "cell_type": "code",
      "execution_count": 63,
      "metadata": {
        "id": "Xtk-lxeGN5OC"
      },
      "outputs": [
        {
          "data": {
            "text/plain": [
              "<AxesSubplot: xlabel='Column16', ylabel='count'>"
            ]
          },
          "execution_count": 63,
          "metadata": {},
          "output_type": "execute_result"
        },
        {
          "data": {
            "image/png": "[encoded data removed]",
            "text/plain": [
              "<Figure size 640x480 with 1 Axes>"
            ]
          },
          "metadata": {},
          "output_type": "display_data"
        }
      ],
      "source": [
        "# Separa en dos df distintos\n",
        "df1 = df[df['Column16'] == '+']\n",
        "df2 = df[df['Column16'] == '-']\n",
        "# De la variable target muestra gáficamente (barras), una comparación entre las tarjetas aprobadas y las que no.\n",
        "sns.countplot(x='Column16', data=df)"
      ]
    },
    {
      "cell_type": "markdown",
      "metadata": {
        "id": "vhrJMeNTWQdY"
      },
      "source": [
        "No tener las variables del mismo tipo, da problemas tanto en tiempos de ejecución como en el resultado depende del modelo a aplicar. Así que transformemos la vairable categóricas en numéricas:\n",
        "Puedes usar el [OrdinalEncoder](https://scikit-learn.org/stable/modules/generated/sklearn.preprocessing.OrdinalEncoder.html) o el [LabelEncoder](https://scikit-learn.org/stable/modules/generated/sklearn.preprocessing.LabelEncoder.html) "
      ]
    },
    {
      "cell_type": "code",
      "execution_count": 68,
      "metadata": {
        "id": "BQjY6GB1WPnJ"
      },
      "outputs": [
        {
          "data": {
            "text/html": [
              "<div>\n",
              "<style scoped>\n",
              "    .dataframe tbody tr th:only-of-type {\n",
              "        vertical-align: middle;\n",
              "    }\n",
              "\n",
              "    .dataframe tbody tr th {\n",
              "        vertical-align: top;\n",
              "    }\n",
              "\n",
              "    .dataframe thead th {\n",
              "        text-align: right;\n",
              "    }\n",
              "</style>\n",
              "<table border=\"1\" class=\"dataframe\">\n",
              "  <thead>\n",
              "    <tr style=\"text-align: right;\">\n",
              "      <th></th>\n",
              "      <th>Column1</th>\n",
              "      <th>Column2</th>\n",
              "      <th>Column3</th>\n",
              "      <th>Column4</th>\n",
              "      <th>Column5</th>\n",
              "      <th>Column6</th>\n",
              "      <th>Column7</th>\n",
              "      <th>Column8</th>\n",
              "      <th>Column9</th>\n",
              "      <th>Column10</th>\n",
              "      <th>Column11</th>\n",
              "      <th>Column12</th>\n",
              "      <th>Column13</th>\n",
              "      <th>Column14</th>\n",
              "      <th>Column15</th>\n",
              "      <th>Column16</th>\n",
              "    </tr>\n",
              "  </thead>\n",
              "  <tbody>\n",
              "    <tr>\n",
              "      <th>0</th>\n",
              "      <td>1</td>\n",
              "      <td>156</td>\n",
              "      <td>0</td>\n",
              "      <td>1</td>\n",
              "      <td>0</td>\n",
              "      <td>12</td>\n",
              "      <td>7</td>\n",
              "      <td>35</td>\n",
              "      <td>1</td>\n",
              "      <td>1</td>\n",
              "      <td>1</td>\n",
              "      <td>0</td>\n",
              "      <td>0</td>\n",
              "      <td>68</td>\n",
              "      <td>0</td>\n",
              "      <td>0</td>\n",
              "    </tr>\n",
              "    <tr>\n",
              "      <th>1</th>\n",
              "      <td>0</td>\n",
              "      <td>328</td>\n",
              "      <td>79</td>\n",
              "      <td>1</td>\n",
              "      <td>0</td>\n",
              "      <td>10</td>\n",
              "      <td>3</td>\n",
              "      <td>54</td>\n",
              "      <td>1</td>\n",
              "      <td>1</td>\n",
              "      <td>6</td>\n",
              "      <td>0</td>\n",
              "      <td>0</td>\n",
              "      <td>11</td>\n",
              "      <td>119</td>\n",
              "      <td>0</td>\n",
              "    </tr>\n",
              "    <tr>\n",
              "      <th>2</th>\n",
              "      <td>0</td>\n",
              "      <td>89</td>\n",
              "      <td>5</td>\n",
              "      <td>1</td>\n",
              "      <td>0</td>\n",
              "      <td>10</td>\n",
              "      <td>3</td>\n",
              "      <td>14</td>\n",
              "      <td>1</td>\n",
              "      <td>0</td>\n",
              "      <td>0</td>\n",
              "      <td>0</td>\n",
              "      <td>0</td>\n",
              "      <td>96</td>\n",
              "      <td>140</td>\n",
              "      <td>0</td>\n",
              "    </tr>\n",
              "    <tr>\n",
              "      <th>3</th>\n",
              "      <td>1</td>\n",
              "      <td>125</td>\n",
              "      <td>51</td>\n",
              "      <td>1</td>\n",
              "      <td>0</td>\n",
              "      <td>12</td>\n",
              "      <td>7</td>\n",
              "      <td>58</td>\n",
              "      <td>1</td>\n",
              "      <td>1</td>\n",
              "      <td>5</td>\n",
              "      <td>1</td>\n",
              "      <td>0</td>\n",
              "      <td>31</td>\n",
              "      <td>3</td>\n",
              "      <td>0</td>\n",
              "    </tr>\n",
              "    <tr>\n",
              "      <th>4</th>\n",
              "      <td>1</td>\n",
              "      <td>43</td>\n",
              "      <td>158</td>\n",
              "      <td>1</td>\n",
              "      <td>0</td>\n",
              "      <td>12</td>\n",
              "      <td>7</td>\n",
              "      <td>42</td>\n",
              "      <td>1</td>\n",
              "      <td>0</td>\n",
              "      <td>0</td>\n",
              "      <td>0</td>\n",
              "      <td>2</td>\n",
              "      <td>37</td>\n",
              "      <td>0</td>\n",
              "      <td>0</td>\n",
              "    </tr>\n",
              "    <tr>\n",
              "      <th>...</th>\n",
              "      <td>...</td>\n",
              "      <td>...</td>\n",
              "      <td>...</td>\n",
              "      <td>...</td>\n",
              "      <td>...</td>\n",
              "      <td>...</td>\n",
              "      <td>...</td>\n",
              "      <td>...</td>\n",
              "      <td>...</td>\n",
              "      <td>...</td>\n",
              "      <td>...</td>\n",
              "      <td>...</td>\n",
              "      <td>...</td>\n",
              "      <td>...</td>\n",
              "      <td>...</td>\n",
              "      <td>...</td>\n",
              "    </tr>\n",
              "    <tr>\n",
              "      <th>685</th>\n",
              "      <td>1</td>\n",
              "      <td>52</td>\n",
              "      <td>175</td>\n",
              "      <td>2</td>\n",
              "      <td>2</td>\n",
              "      <td>4</td>\n",
              "      <td>3</td>\n",
              "      <td>35</td>\n",
              "      <td>0</td>\n",
              "      <td>0</td>\n",
              "      <td>0</td>\n",
              "      <td>0</td>\n",
              "      <td>0</td>\n",
              "      <td>90</td>\n",
              "      <td>0</td>\n",
              "      <td>1</td>\n",
              "    </tr>\n",
              "    <tr>\n",
              "      <th>686</th>\n",
              "      <td>0</td>\n",
              "      <td>71</td>\n",
              "      <td>35</td>\n",
              "      <td>1</td>\n",
              "      <td>0</td>\n",
              "      <td>1</td>\n",
              "      <td>7</td>\n",
              "      <td>2</td>\n",
              "      <td>0</td>\n",
              "      <td>1</td>\n",
              "      <td>2</td>\n",
              "      <td>1</td>\n",
              "      <td>0</td>\n",
              "      <td>67</td>\n",
              "      <td>106</td>\n",
              "      <td>1</td>\n",
              "    </tr>\n",
              "    <tr>\n",
              "      <th>687</th>\n",
              "      <td>0</td>\n",
              "      <td>97</td>\n",
              "      <td>48</td>\n",
              "      <td>2</td>\n",
              "      <td>2</td>\n",
              "      <td>5</td>\n",
              "      <td>2</td>\n",
              "      <td>2</td>\n",
              "      <td>0</td>\n",
              "      <td>1</td>\n",
              "      <td>1</td>\n",
              "      <td>1</td>\n",
              "      <td>0</td>\n",
              "      <td>67</td>\n",
              "      <td>1</td>\n",
              "      <td>1</td>\n",
              "    </tr>\n",
              "    <tr>\n",
              "      <th>688</th>\n",
              "      <td>1</td>\n",
              "      <td>20</td>\n",
              "      <td>60</td>\n",
              "      <td>1</td>\n",
              "      <td>0</td>\n",
              "      <td>0</td>\n",
              "      <td>7</td>\n",
              "      <td>4</td>\n",
              "      <td>0</td>\n",
              "      <td>0</td>\n",
              "      <td>0</td>\n",
              "      <td>0</td>\n",
              "      <td>0</td>\n",
              "      <td>96</td>\n",
              "      <td>134</td>\n",
              "      <td>1</td>\n",
              "    </tr>\n",
              "    <tr>\n",
              "      <th>689</th>\n",
              "      <td>1</td>\n",
              "      <td>197</td>\n",
              "      <td>146</td>\n",
              "      <td>1</td>\n",
              "      <td>0</td>\n",
              "      <td>1</td>\n",
              "      <td>3</td>\n",
              "      <td>77</td>\n",
              "      <td>0</td>\n",
              "      <td>0</td>\n",
              "      <td>0</td>\n",
              "      <td>1</td>\n",
              "      <td>0</td>\n",
              "      <td>0</td>\n",
              "      <td>0</td>\n",
              "      <td>1</td>\n",
              "    </tr>\n",
              "  </tbody>\n",
              "</table>\n",
              "<p>690 rows × 16 columns</p>\n",
              "</div>"
            ],
            "text/plain": [
              "     Column1  Column2  Column3  Column4  Column5  Column6  Column7  Column8  \\\n",
              "0          1      156        0        1        0       12        7       35   \n",
              "1          0      328       79        1        0       10        3       54   \n",
              "2          0       89        5        1        0       10        3       14   \n",
              "3          1      125       51        1        0       12        7       58   \n",
              "4          1       43      158        1        0       12        7       42   \n",
              "..       ...      ...      ...      ...      ...      ...      ...      ...   \n",
              "685        1       52      175        2        2        4        3       35   \n",
              "686        0       71       35        1        0        1        7        2   \n",
              "687        0       97       48        2        2        5        2        2   \n",
              "688        1       20       60        1        0        0        7        4   \n",
              "689        1      197      146        1        0        1        3       77   \n",
              "\n",
              "     Column9  Column10  Column11  Column12  Column13  Column14  Column15  \\\n",
              "0          1         1         1         0         0        68         0   \n",
              "1          1         1         6         0         0        11       119   \n",
              "2          1         0         0         0         0        96       140   \n",
              "3          1         1         5         1         0        31         3   \n",
              "4          1         0         0         0         2        37         0   \n",
              "..       ...       ...       ...       ...       ...       ...       ...   \n",
              "685        0         0         0         0         0        90         0   \n",
              "686        0         1         2         1         0        67       106   \n",
              "687        0         1         1         1         0        67         1   \n",
              "688        0         0         0         0         0        96       134   \n",
              "689        0         0         0         1         0         0         0   \n",
              "\n",
              "     Column16  \n",
              "0           0  \n",
              "1           0  \n",
              "2           0  \n",
              "3           0  \n",
              "4           0  \n",
              "..        ...  \n",
              "685         1  \n",
              "686         1  \n",
              "687         1  \n",
              "688         1  \n",
              "689         1  \n",
              "\n",
              "[690 rows x 16 columns]"
            ]
          },
          "execution_count": 68,
          "metadata": {},
          "output_type": "execute_result"
        }
      ],
      "source": [
        "# Transforma variable y muestra dataset\n",
        "# OrdinalEncoder\n",
        "from sklearn.preprocessing import OrdinalEncoder\n",
        "from sklearn.preprocessing import LabelEncoder\n",
        "\n",
        "\n",
        "for column in df.columns:\n",
        "    if df[column].dtype == type(object):\n",
        "        le = LabelEncoder()\n",
        "        df[column] = le.fit_transform(df[column])\n",
        "\n",
        "\n",
        "df.apply(LabelEncoder().fit_transform)\n"
      ]
    },
    {
      "cell_type": "markdown",
      "metadata": {
        "id": "PtT0aB5wXbft"
      },
      "source": [
        "## Separamos en train y test"
      ]
    },
    {
      "cell_type": "code",
      "execution_count": 69,
      "metadata": {
        "id": "PhOT6DVnXrs3"
      },
      "outputs": [],
      "source": [
        "# Mediante train_test_split separa las dos variable (un 30% de test y pon random_state=2 para que podamos comparar resultados)\n",
        "from sklearn.model_selection import train_test_split\n",
        "\n",
        "# train_test_split separa las dos variable (un 30% de test y pon random_state=2 para que podamos comparar resultados)\n",
        "x_train, x_test, y_train, y_test = train_test_split(df.drop('Column16', axis=1), df['Column16'], test_size=0.3, random_state=2)"
      ]
    },
    {
      "attachments": {},
      "cell_type": "markdown",
      "metadata": {
        "id": "x1kkBBRnYaJ3"
      },
      "source": [
        "# Aplicamos ML"
      ]
    },
    {
      "cell_type": "markdown",
      "metadata": {
        "id": "qqj8iWzuYcHu"
      },
      "source": [
        "## Logistic regresion"
      ]
    },
    {
      "cell_type": "markdown",
      "metadata": {
        "id": "1iTN2jXZYfCt"
      },
      "source": [
        "Usa la libreria de scikit-learn para regresión logística. Ten en cuenta que las variable no están escaladas y en la regresión logística te afectará.\n"
      ]
    },
    {
      "cell_type": "code",
      "execution_count": 73,
      "metadata": {
        "id": "uyvo6fXGZJ9z"
      },
      "outputs": [],
      "source": [
        "# Escala las varaibles de entramiento con MinMaxEscale y almacenalas en una variable nueva\n",
        "from sklearn.preprocessing import MinMaxScaler\n",
        "\n",
        "x_train_scaled = MinMaxScaler().fit_transform(x_train)\n",
        "x_test_scaled = MinMaxScaler().fit_transform(x_test)\n",
        "\n",
        "y_train_scaled = MinMaxScaler().fit_transform(y_train.values.reshape(-1,1))\n",
        "y_test_scaled = MinMaxScaler().fit_transform(y_test.values.reshape(-1,1))\n"
      ]
    },
    {
      "cell_type": "code",
      "execution_count": 104,
      "metadata": {
        "id": "AvNA6HD6ZRE9"
      },
      "outputs": [
        {
          "name": "stderr",
          "output_type": "stream",
          "text": [
            "c:\\Users\\1vict\\AppData\\Local\\Programs\\Python\\Python310\\lib\\site-packages\\sklearn\\utils\\validation.py:1143: DataConversionWarning: A column-vector y was passed when a 1d array was expected. Please change the shape of y to (n_samples, ), for example using ravel().\n",
            "  y = column_or_1d(y, warn=True)\n"
          ]
        },
        {
          "data": {
            "text/plain": [
              "0.8888888888888888"
            ]
          },
          "execution_count": 104,
          "metadata": {},
          "output_type": "execute_result"
        }
      ],
      "source": [
        "# Entrena el modelo con las variables escaladas\n",
        "from sklearn.linear_model import LogisticRegression\n",
        "\n",
        "model = LogisticRegression()\n",
        "model.fit(x_train_scaled, y_train_scaled)\n",
        "\n",
        "model.score(x_test_scaled, y_test_scaled)\n",
        "\n"
      ]
    },
    {
      "cell_type": "code",
      "execution_count": 100,
      "metadata": {
        "id": "gGSFCM2mZuHh"
      },
      "outputs": [
        {
          "name": "stdout",
          "output_type": "stream",
          "text": [
            "Accuracy:  0.8942307692307693\n",
            "True Positives:  91\n"
          ]
        }
      ],
      "source": [
        "# Muestra su accuracy\n",
        "from sklearn import metrics\n",
        "\n",
        "cm = metrics.confusion_matrix(y_test_scaled, model.predict(x_test_scaled))\n",
        "\n",
        "print('Accuracy: ', metrics.precision_score(y_test_scaled, model.predict(x_test_scaled)))\n"
      ]
    },
    {
      "cell_type": "code",
      "execution_count": 82,
      "metadata": {
        "id": "poW5ZxvmZwBC"
      },
      "outputs": [
        {
          "name": "stdout",
          "output_type": "stream",
          "text": [
            "Accuracy:  0.8843205574912891\n"
          ]
        },
        {
          "name": "stderr",
          "output_type": "stream",
          "text": [
            "c:\\Users\\1vict\\AppData\\Local\\Programs\\Python\\Python310\\lib\\site-packages\\sklearn\\utils\\validation.py:1143: DataConversionWarning: A column-vector y was passed when a 1d array was expected. Please change the shape of y to (n_samples, ), for example using ravel().\n",
            "  y = column_or_1d(y, warn=True)\n",
            "c:\\Users\\1vict\\AppData\\Local\\Programs\\Python\\Python310\\lib\\site-packages\\sklearn\\utils\\validation.py:1143: DataConversionWarning: A column-vector y was passed when a 1d array was expected. Please change the shape of y to (n_samples, ), for example using ravel().\n",
            "  y = column_or_1d(y, warn=True)\n",
            "c:\\Users\\1vict\\AppData\\Local\\Programs\\Python\\Python310\\lib\\site-packages\\sklearn\\utils\\validation.py:1143: DataConversionWarning: A column-vector y was passed when a 1d array was expected. Please change the shape of y to (n_samples, ), for example using ravel().\n",
            "  y = column_or_1d(y, warn=True)\n",
            "c:\\Users\\1vict\\AppData\\Local\\Programs\\Python\\Python310\\lib\\site-packages\\sklearn\\utils\\validation.py:1143: DataConversionWarning: A column-vector y was passed when a 1d array was expected. Please change the shape of y to (n_samples, ), for example using ravel().\n",
            "  y = column_or_1d(y, warn=True)\n",
            "c:\\Users\\1vict\\AppData\\Local\\Programs\\Python\\Python310\\lib\\site-packages\\sklearn\\utils\\validation.py:1143: DataConversionWarning: A column-vector y was passed when a 1d array was expected. Please change the shape of y to (n_samples, ), for example using ravel().\n",
            "  y = column_or_1d(y, warn=True)\n"
          ]
        }
      ],
      "source": [
        "# Muestra accuracy haciendo Cross validation (5 veces es suficiente)\n",
        "from sklearn.model_selection import cross_val_score\n",
        "\n",
        "pred = cross_val_score(model, x_test_scaled, y_test_scaled, cv=5)\n",
        "\n",
        "print('Accuracy: ', pred.mean())"
      ]
    },
    {
      "cell_type": "markdown",
      "metadata": {
        "id": "OYYXv2_FZ5x2"
      },
      "source": [
        "### KNN"
      ]
    },
    {
      "cell_type": "code",
      "execution_count": 98,
      "metadata": {
        "id": "AuuL7-vrZ7G-"
      },
      "outputs": [
        {
          "name": "stdout",
          "output_type": "stream",
          "text": [
            "{'n_neighbors': 3}\n",
            "0.6782608695652174\n",
            "Accuracy:  0.8019323671497585\n"
          ]
        }
      ],
      "source": [
        "# Mediante GridSearch determina el número de vecinos optimos ( ya no hace falta usar variables escaladas)\n",
        "from sklearn.model_selection import GridSearchCV\n",
        "from sklearn.neighbors import KNeighborsClassifier\n",
        "\n",
        "knn_opt = KNeighborsClassifier()\n",
        "param = {'n_neighbors': np.arange(1, 15)}\n",
        "knn_gscv = GridSearchCV(knn_opt, param, cv=30)\n",
        "\n",
        "knn_gscv.fit(df.drop('Column16', axis=1), df['Column16'])\n",
        "\n",
        "\n",
        "print(knn_gscv.best_params_)\n",
        "print(knn_gscv.best_score_)\n",
        "print('Accuracy: ', knn_gscv.score(x_test, y_test))"
      ]
    },
    {
      "cell_type": "code",
      "execution_count": 99,
      "metadata": {
        "id": "zeTGygHcanSh"
      },
      "outputs": [
        {
          "name": "stdout",
          "output_type": "stream",
          "text": [
            "Accuracy:  0.6565217391304348\n"
          ]
        }
      ],
      "source": [
        "# Muestra accuracy haciendo Cross validation (5 veces es suficiente)\n",
        "knn_opt = KNeighborsClassifier(n_neighbors=3)\n",
        "cv_scores = cross_val_score(knn_opt, df.drop('Column16', axis=1), df['Column16'], cv=5)\n",
        "\n",
        "print('Accuracy: ', cv_scores.mean())"
      ]
    },
    {
      "cell_type": "markdown",
      "metadata": {
        "id": "jcRPO-gha2SY"
      },
      "source": [
        "## Conclusiones\n",
        "\n",
        "Determina el mejor modelo y guardatelo para futuros análisis y atender las peticiones futuras de usuarios que quieren tarjetas de créditos. (Brutal el proyecto)"
      ]
    },
    {
      "cell_type": "code",
      "execution_count": 107,
      "metadata": {
        "id": "S2HCtF6hbDkc"
      },
      "outputs": [],
      "source": [
        "#Exporta modelo\n",
        "import pickle\n",
        "filenameRL = 'models/modelRegresionLogistica.sav'\n",
        "filenameKNN = 'models/modelKNN.sav'\n",
        "pickle.dump(model, open(filenameRL, 'wb'))\n",
        "pickle.dump(knn_gscv, open(filenameKNN, 'wb'))"
      ]
    }
  ],
  "metadata": {
    "colab": {
      "provenance": []
    },
    "kernelspec": {
      "display_name": "Python 3",
      "name": "python3"
    },
    "language_info": {
      "codemirror_mode": {
        "name": "ipython",
        "version": 3
      },
      "file_extension": ".py",
      "mimetype": "text/x-python",
      "name": "python",
      "nbconvert_exporter": "python",
      "pygments_lexer": "ipython3",
      "version": "3.10.7"
    }
  },
  "nbformat": 4,
  "nbformat_minor": 0
}
